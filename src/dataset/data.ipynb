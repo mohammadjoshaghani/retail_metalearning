{
 "cells": [
  {
   "cell_type": "code",
   "execution_count": 1,
   "metadata": {},
   "outputs": [
    {
     "name": "stderr",
     "output_type": "stream",
     "text": [
      "c:\\Users\\MohammadPC\\anaconda3\\envs\\metats-env\\lib\\site-packages\\tqdm\\auto.py:22: TqdmWarning: IProgress not found. Please update jupyter and ipywidgets. See https://ipywidgets.readthedocs.io/en/stable/user_install.html\n",
      "  from .autonotebook import tqdm as notebook_tqdm\n"
     ]
    }
   ],
   "source": [
    "import torch\n",
    "import pandas as pd\n",
    "import numpy as np"
   ]
  },
  {
   "cell_type": "code",
   "execution_count": 3,
   "metadata": {},
   "outputs": [],
   "source": [
    "drop_columns = ['Unnamed: 0',\n",
    "'unit.IRI_KEY',\n",
    "'unit.SY',\n",
    "'unit.GE',\n",
    "'unit.VEND',\n",
    "'unit.ITEM',\n",
    "'price.IRI_KEY',\n",
    "'price.SY',\n",
    "'price.GE',\n",
    "'price.VEND',\n",
    "'price.ITEM',\n",
    "'price.cate',\n",
    "'F.IRI_KEY',\n",
    "'F.SY',\n",
    "'F.GE',\n",
    "'F.VEND',\n",
    "'F.ITEM',\n",
    "'F.cate',\n",
    "'D.IRI_KEY',\n",
    "'D.SY',\n",
    "'D.GE',\n",
    "'D.VEND',\n",
    "'D.ITEM',\n",
    "'D.cate',\n",
    "'holiday.IRI_KEY',\n",
    "'holiday.SY',\n",
    "'holiday.GE',\n",
    "'holiday.VEND',\n",
    "'holiday.ITEM',\n",
    "'holiday.cate',]"
   ]
  },
  {
   "cell_type": "markdown",
   "metadata": {},
   "source": [
    "# data:"
   ]
  },
  {
   "cell_type": "code",
   "execution_count": 8,
   "metadata": {},
   "outputs": [],
   "source": [
    "def read_csv(i):\n",
    "    # read each slots csv, create tensor of dimension:\n",
    "    # (features, num_timeseries, lenght)\n",
    "    dataset = []\n",
    "    data = pd.read_csv(f\"iri{i}.csv\", usecols=lambda x: x not in drop_columns)\n",
    "\n",
    "    cl = data.columns.to_list()\n",
    "    clcat = ['unit.cate'] \n",
    "    clu = [c for c in cl if 'unit.1' in c]\n",
    "    clp = [c for c in cl if 'price.1' in c]\n",
    "    clh = [c for c in cl if 'holiday.1' in c]\n",
    "    clf = [c for c in cl if 'F.' in c]\n",
    "    cld = [c for c in cl if 'D.' in c]\n",
    "\n",
    "    \n",
    "    dataset.append(data[clu].values)\n",
    "    #replace some inf values in price\n",
    "    data_clp = data[clp].replace(np.inf, np.nan).interpolate()\n",
    "    dataset.append(data_clp.values)\n",
    "    dataset.append(data[clh].values)\n",
    "    dataset.append(data[clf].values)\n",
    "    dataset.append(data[cld].values)\n",
    "    dataset = np.array(dataset)\n",
    "    dataset = np.transpose(dataset,(0,1,2))\n",
    "    return dataset , data[clcat].values"
   ]
  },
  {
   "cell_type": "code",
   "execution_count": 5,
   "metadata": {},
   "outputs": [],
   "source": [
    "def normalize(d):\n",
    "    # normalize unit and price for NNs\n",
    "    norm = torch.nn.InstanceNorm1d(2)\n",
    "    dd= norm(d[:2,:,:])\n",
    "    return dd"
   ]
  },
  {
   "cell_type": "code",
   "execution_count": 6,
   "metadata": {},
   "outputs": [],
   "source": [
    "def concat_slots(fist_slot, last_slot):\n",
    "    # concat slots to create whole train/valid/test dataset \n",
    "    dataset = []\n",
    "    catg = []\n",
    "    for i in range(fist_slot, last_slot):\n",
    "        tens , cat = read_csv(i)\n",
    "        dataset.append(tens)\n",
    "        catg.append(cat)\n",
    "\n",
    "    catg = np.concatenate(catg,axis=0)\n",
    "    dataset = np.concatenate(dataset,axis=1)\n",
    "    d_troch = torch.Tensor(dataset)\n",
    "    d_troch_normalized = normalize(d_troch)    \n",
    "    return d_troch_normalized, catg"
   ]
  },
  {
   "cell_type": "code",
   "execution_count": 9,
   "metadata": {},
   "outputs": [],
   "source": [
    "#datatrain\n",
    "d_train, cat_train = concat_slots(1,11)     #5*83944*55, 83944*1\n",
    "#datavalid\n",
    "d_valid, cat_valid = concat_slots(11,13)    #15145\n",
    "#datatest\n",
    "d_test, cat_test = concat_slots(13,16)      #21049"
   ]
  }
 ],
 "metadata": {
  "kernelspec": {
   "display_name": "Python 3.10.6 ('metats-env')",
   "language": "python",
   "name": "python3"
  },
  "language_info": {
   "codemirror_mode": {
    "name": "ipython",
    "version": 3
   },
   "file_extension": ".py",
   "mimetype": "text/x-python",
   "name": "python",
   "nbconvert_exporter": "python",
   "pygments_lexer": "ipython3",
   "version": "3.10.6"
  },
  "orig_nbformat": 4,
  "vscode": {
   "interpreter": {
    "hash": "ed9a82fe1dbdd371a88d3b537c6d24971560a612461857b10352a02c02b60b34"
   }
  }
 },
 "nbformat": 4,
 "nbformat_minor": 2
}
