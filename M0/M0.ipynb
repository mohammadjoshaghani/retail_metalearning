{
 "cells": [
  {
   "cell_type": "code",
   "execution_count": 260,
   "id": "f66f5454-fefb-4df5-bae6-c4a8c056be89",
   "metadata": {},
   "outputs": [],
   "source": [
    "import torch\n",
    "import torch.nn as nn\n",
    "import pandas as pd\n",
    "import numpy as np\n",
    "import matplotlib.pyplot as plt\n",
    "import random"
   ]
  },
  {
   "cell_type": "code",
   "execution_count": 261,
   "id": "4d24f038-92e7-4c6a-b4df-66762605ab29",
   "metadata": {},
   "outputs": [],
   "source": [
    "drop_columns = ['Unnamed: 0',\n",
    "'unit.IRI_KEY',\n",
    "'unit.SY',\n",
    "'unit.GE',\n",
    "'unit.VEND',\n",
    "'unit.ITEM',\n",
    "'price.IRI_KEY',\n",
    "'price.SY',\n",
    "'price.GE',\n",
    "'price.VEND',\n",
    "'price.ITEM',\n",
    "'price.cate',\n",
    "'F.IRI_KEY',\n",
    "'F.SY',\n",
    "'F.GE',\n",
    "'F.VEND',\n",
    "'F.ITEM',\n",
    "'F.cate',\n",
    "'D.IRI_KEY',\n",
    "'D.SY',\n",
    "'D.GE',\n",
    "'D.VEND',\n",
    "'D.ITEM',\n",
    "'D.cate',\n",
    "'holiday.IRI_KEY',\n",
    "'holiday.SY',\n",
    "'holiday.GE',\n",
    "'holiday.VEND',\n",
    "'holiday.ITEM',\n",
    "'holiday.cate',]\n",
    "\n",
    "def read_csv(i):\n",
    "    # read each slots csv, create tensor of dimension:\n",
    "    # (num_timeseries, lenght, features)\n",
    "    dataset = []\n",
    "    data = pd.read_csv(f\"dataset/iri{i}.csv\", usecols=lambda x: x not in drop_columns)\n",
    "\n",
    "    cl = data.columns.to_list()\n",
    "    clcat = ['unit.cate'] \n",
    "    clu = [c for c in cl if 'unit.1' in c]\n",
    "    clp = [c for c in cl if 'price.1' in c]\n",
    "    clh = [c for c in cl if 'holiday.1' in c]\n",
    "    clf = [c for c in cl if 'F.' in c]\n",
    "    cld = [c for c in cl if 'D.' in c]\n",
    "\n",
    "    \n",
    "    dataset.append(data[clu].values)\n",
    "    #replace some inf values in price\n",
    "    data_clp = data[clp].replace(np.inf, np.nan).interpolate()\n",
    "    dataset.append(data_clp.values)\n",
    "    dataset.append(data[clh].values)\n",
    "    dataset.append(data[clf].values)\n",
    "    dataset.append(data[cld].values)\n",
    "    dataset = np.array(dataset)\n",
    "    dataset = np.transpose(dataset,(1,2,0))\n",
    "    return dataset , data[clcat].values\n",
    "\n",
    "def normalize(d):\n",
    "    # normalize unit and price for NNs\n",
    "    norm = torch.nn.InstanceNorm1d(2)\n",
    "    dd_norm = norm(d[:,:,:2])\n",
    "    d[:,:,:2] = dd_norm\n",
    "    return d\n",
    "\n",
    "def concat_slots(fist_slot, last_slot):\n",
    "    # concat slots to create whole train/valid/test dataset \n",
    "    dataset = []\n",
    "    catg = []\n",
    "    for i in range(fist_slot, last_slot):\n",
    "        tens , cat = read_csv(i)\n",
    "        dataset.append(tens)\n",
    "        catg.append(cat)\n",
    "\n",
    "    catg = np.concatenate(catg,axis=0)\n",
    "    dataset = np.concatenate(dataset,axis=0)\n",
    "    d_troch = torch.Tensor(dataset)\n",
    "    return dataset , catg #np.array , torch.array, np.array\n",
    "\n",
    "def mode_indx(mode):\n",
    "    if mode == \"train\":\n",
    "        (start,end) = (1,8) #(60993, 55, 5)\n",
    "    if mode == \"valid\":\n",
    "        (start,end) = (8,11)#(22951, 55, 5)\n",
    "    if mode == \"test\":     \n",
    "        (start,end) = (11,16)#(36194, 55, 5)\n",
    "    return (start,end)\n",
    "   "
   ]
  },
  {
   "cell_type": "code",
   "execution_count": 262,
   "id": "252f4d5b-b9dd-4d22-b881-2e863c2f4914",
   "metadata": {},
   "outputs": [],
   "source": [
    "from torch.utils.data import Dataset\n",
    "\n",
    "class IRIDataset(Dataset):\n",
    "    def __init__(self, mode, horizon):\n",
    "\n",
    "        self.mode = mode\n",
    "        self.horizon = horizon\n",
    "        (star,end) = mode_indx(mode)\n",
    "        self.data, _ = concat_slots(star,end)\n",
    "        self.base = self.get_base_forecasts()\n",
    "        \n",
    "    \n",
    "    def get_base_forecasts(self):\n",
    "        base_forecasters = np.load(f'base_forecasters/{self.horizon}/_all_npy/base_{self.mode}.npy')\n",
    "        return base_forecasters\n",
    "\n",
    "    def __len__(self):\n",
    "        return self.data.shape[0]\n",
    "\n",
    "    def __getitem__(self, idx):\n",
    "        data_tensor = torch.from_numpy(self.data[idx]).permute(1, 0).float()\n",
    "        base_tensor = torch.from_numpy(self.base[idx]).float()\n",
    "        return {'series' : data_tensor, 'base': base_tensor}\n",
    "        "
   ]
  },
  {
   "cell_type": "code",
   "execution_count": 263,
   "id": "20f8f7b5-e644-4640-a94d-3856d21288c7",
   "metadata": {},
   "outputs": [],
   "source": [
    "horizon = 7\n",
    "batch_size = 31"
   ]
  },
  {
   "cell_type": "code",
   "execution_count": 264,
   "id": "f76ddc1f-6fc5-4a3b-9a20-0011192b2207",
   "metadata": {},
   "outputs": [
    {
     "name": "stderr",
     "output_type": "stream",
     "text": [
      "Global seed set to 0\n"
     ]
    },
    {
     "data": {
      "text/plain": [
       "0"
      ]
     },
     "execution_count": 264,
     "metadata": {},
     "output_type": "execute_result"
    }
   ],
   "source": [
    "from lightning.pytorch import seed_everything\n",
    "\n",
    "torch.manual_seed(0)\n",
    "np.random.seed(0)\n",
    "random.seed(0)\n",
    "seed_everything(0, workers=True)"
   ]
  },
  {
   "cell_type": "code",
   "execution_count": 265,
   "id": "d1b4bff6-95bb-4406-920e-f5f7146b760d",
   "metadata": {
    "scrolled": true
   },
   "outputs": [],
   "source": [
    "from torch.utils.data import DataLoader\n",
    "\n",
    "train_dataset = IRIDataset(\"train\", horizon)\n",
    "train_dataloader = DataLoader(train_dataset, batch_size=batch_size, shuffle=False, num_workers=8)\n",
    "\n",
    "valid_dataset = IRIDataset(\"valid\", horizon)\n",
    "valid_dataloader = DataLoader(valid_dataset, batch_size=batch_size, shuffle=False, num_workers=8)\n",
    "\n",
    "\n",
    "test_dataset = IRIDataset(\"test\", horizon)\n",
    "test_dataloader = DataLoader(test_dataset, batch_size=batch_size, shuffle=False, num_workers=8)"
   ]
  },
  {
   "cell_type": "markdown",
   "id": "bc36c64a-5eee-44a3-9d3a-303062cf9545",
   "metadata": {},
   "source": [
    "## Implementation of M0 Model in PyTorch "
   ]
  },
  {
   "cell_type": "code",
   "execution_count": 266,
   "id": "c03b404e-6b39-497b-a46a-309e877bcf95",
   "metadata": {},
   "outputs": [],
   "source": [
    "from torchvision.ops import SqueezeExcitation\n",
    "\n",
    "\n",
    "class SEBlock(nn.Module):\n",
    "    def __init__(self, in_channels, reduction=16):\n",
    "        super().__init__()\n",
    "\n",
    "        self.squeeze = nn.AdaptiveAvgPool1d(1)\n",
    "        self.excitation = nn.Sequential(\n",
    "            nn.Linear(in_channels, in_channels // reduction),\n",
    "            nn.ReLU(),\n",
    "            nn.Linear(in_channels // reduction, in_channels),\n",
    "            nn.Sigmoid()\n",
    "        )\n",
    "\n",
    "    def forward(self, x):\n",
    "        h = self.squeeze(x)\n",
    "        h = self.excitation(h.squeeze(dim=(1,2))).unsqueeze(2)\n",
    "        return h * x\n",
    "        \n",
    "\n",
    "\n",
    "class MetaLearnerConvBlock(nn.Module):\n",
    "    def __init__(self, num_channels=1):\n",
    "        super().__init__()\n",
    "\n",
    "        self.gpool = nn.AdaptiveAvgPool1d(1)\n",
    "        \n",
    "        self.b1 = nn.Sequential(\n",
    "            nn.Conv1d(num_channels, 64, kernel_size=2, padding='same'),\n",
    "            nn.ReLU(),\n",
    "            SEBlock(64)   \n",
    "        )\n",
    "        \n",
    "        self.b2 = nn.Sequential(\n",
    "            nn.Conv1d(64, 128, kernel_size=4, padding='same'),\n",
    "            nn.ReLU(),\n",
    "            SEBlock(128)   \n",
    "        )\n",
    "\n",
    "        self.b3 = nn.Sequential(\n",
    "            nn.Conv1d(128, 64, kernel_size=8, padding='same'),\n",
    "            nn.ReLU(),\n",
    "        )\n",
    "    \n",
    "    def forward(self, x):\n",
    "        h = self.b1(x)\n",
    "        h = self.b2(h)\n",
    "        h = self.b3(h)\n",
    "        h = self.gpool(h).squeeze()\n",
    "        return h"
   ]
  },
  {
   "cell_type": "code",
   "execution_count": 267,
   "id": "381f7a07-9ae8-4974-803f-1335152d2811",
   "metadata": {},
   "outputs": [
    {
     "name": "stdout",
     "output_type": "stream",
     "text": [
      "Total M0 parameters :  204320\n"
     ]
    }
   ],
   "source": [
    "class MetaLearnerM0(nn.Module):\n",
    "    def __init__(self, num_forecasters):\n",
    "        super().__init__()\n",
    "\n",
    "        self.normalizer = nn.InstanceNorm1d(5)\n",
    "        self.sales_block = MetaLearnerConvBlock(num_channels=1)\n",
    "        self.inf_block = MetaLearnerConvBlock(num_channels=4)\n",
    "        \n",
    "        self.weights = nn.Sequential(\n",
    "            nn.Dropout(0.5),\n",
    "            nn.Linear(128, num_forecasters),\n",
    "            nn.Softmax(dim=1)\n",
    "        )\n",
    "    \n",
    "    def forward(self, x):\n",
    "        z = self.normalizer(x)\n",
    "        h_sales = self.sales_block(z[:, :1, :55-horizon])\n",
    "        h_inf = self.inf_block(z[:, 1:, :])\n",
    "\n",
    "        h = torch.cat((h_sales, h_inf), dim=1)\n",
    "\n",
    "        weights = self.weights(h)\n",
    "        \n",
    "        return weights\n",
    "\n",
    "M0 = MetaLearnerM0(8)\n",
    "# M0(sample).shape\n",
    "print('Total M0 parameters : ', sum([ torch.numel(p) for p in M0.parameters() ]))"
   ]
  },
  {
   "cell_type": "code",
   "execution_count": 268,
   "id": "b7f18760-c36e-4e2a-8434-72c278f67f6f",
   "metadata": {},
   "outputs": [],
   "source": [
    "import lightning.pytorch as pl\n",
    "from lightning.pytorch.callbacks.early_stopping import EarlyStopping\n",
    "\n",
    "class LiteM0(pl.LightningModule):\n",
    "    def __init__(self, m0):\n",
    "        super().__init__()\n",
    "        self.m0 = m0\n",
    "\n",
    "    def training_step(self, batch, batch_idx):\n",
    "        weights = self.m0(batch['series'][:, :, :])\n",
    "        predictions = torch.bmm(weights.unsqueeze(1), batch['base']).squeeze()\n",
    "        true_values = batch['series'][:, 0, -horizon:]\n",
    "        # print(predictions, true_values)\n",
    "        # ent = torch.distributions.Categorical(weights).entropy()\n",
    "        pred_loss = torch.sqrt(nn.functional.mse_loss(true_values.squeeze(), predictions.squeeze()))\n",
    "        loss = pred_loss\n",
    "\n",
    "        self.log('train_loss_pred', pred_loss, on_epoch=True, on_step=False)\n",
    "        self.log('train_loss_total', loss, on_epoch=True, on_step=False)\n",
    "\n",
    "        return loss\n",
    "\n",
    "    def validation_step(self, batch, batch_idx):\n",
    "        weights = self.m0(batch['series'][:, :, :])\n",
    "        predictions = torch.bmm(weights.unsqueeze(1), batch['base']).squeeze()\n",
    "        true_values = batch['series'][:, 0, -horizon:]\n",
    "        # print(predictions, true_values)\n",
    "        valid_loss = torch.sqrt(nn.functional.mse_loss(true_values.squeeze(), predictions.squeeze()))\n",
    "        self.log('valid_loss', valid_loss, on_epoch=True, on_step=False)\n",
    "\n",
    "        return valid_loss\n",
    "\n",
    "    def test_step(self, batch, batch_idx):\n",
    "        weights = self.m0(batch['series'][:, :, :])\n",
    "        predictions = torch.bmm(weights.unsqueeze(1), batch['base']).squeeze()\n",
    "        true_values = batch['series'][:, 0, -horizon:]\n",
    "        # print(predictions, true_values)\n",
    "        test_loss = torch.sqrt(nn.functional.mse_loss(true_values.squeeze(), predictions.squeeze()))\n",
    "        self.log('test_loss', test_loss, on_epoch=True, on_step=False)\n",
    "\n",
    "        return valid_loss\n",
    "\n",
    "    def configure_optimizers(self):\n",
    "        optimizer = torch.optim.Adam(self.parameters(), lr=0.02)\n",
    "        return optimizer"
   ]
  },
  {
   "cell_type": "code",
   "execution_count": 269,
   "id": "81c96ccf-9b5b-4d71-9c8a-11d355e6ea5d",
   "metadata": {},
   "outputs": [],
   "source": [
    "lite_m0 = LiteM0(MetaLearnerM0(8))"
   ]
  },
  {
   "cell_type": "code",
   "execution_count": 270,
   "id": "b933555a-82c3-42c7-9c25-a5f95e121e77",
   "metadata": {},
   "outputs": [
    {
     "name": "stderr",
     "output_type": "stream",
     "text": [
      "GPU available: True (cuda), used: True\n",
      "TPU available: False, using: 0 TPU cores\n",
      "IPU available: False, using: 0 IPUs\n",
      "HPU available: False, using: 0 HPUs\n"
     ]
    }
   ],
   "source": [
    "trainer = pl.Trainer(max_epochs=50,\n",
    "                     enable_progress_bar=False,\n",
    "                     callbacks=[EarlyStopping(monitor=\"valid_loss\", mode=\"min\")],\n",
    "                     check_val_every_n_epoch=1)"
   ]
  },
  {
   "cell_type": "code",
   "execution_count": 271,
   "id": "661917a2-d57f-4dc8-837a-95b2ca056c7f",
   "metadata": {
    "scrolled": true
   },
   "outputs": [
    {
     "name": "stderr",
     "output_type": "stream",
     "text": [
      "LOCAL_RANK: 0 - CUDA_VISIBLE_DEVICES: [0]\n",
      "\n",
      "  | Name | Type          | Params\n",
      "---------------------------------------\n",
      "0 | m0   | MetaLearnerM0 | 204 K \n",
      "---------------------------------------\n",
      "204 K     Trainable params\n",
      "0         Non-trainable params\n",
      "204 K     Total params\n",
      "0.817     Total estimated model params size (MB)\n"
     ]
    }
   ],
   "source": [
    "trainer.fit(lite_m0, train_dataloader, valid_dataloader)"
   ]
  },
  {
   "cell_type": "code",
   "execution_count": 272,
   "id": "3a7ece31-2541-4f12-a7fb-f29c5a002cea",
   "metadata": {},
   "outputs": [],
   "source": [
    "def collect_predictions(dataloader):\n",
    "    lite_m0.m0.eval()\n",
    "    predictions = []\n",
    "    with torch.inference_mode():\n",
    "        for batch in dataloader:\n",
    "            weights = lite_m0.m0(batch['series'][:, :, :])\n",
    "            pred = torch.bmm(weights.unsqueeze(1), batch['base']).squeeze()\n",
    "            predictions.append(pred)\n",
    "    return predictions"
   ]
  },
  {
   "cell_type": "code",
   "execution_count": 273,
   "id": "0a761778-86ca-4a54-9c7f-a7f7b91f80c0",
   "metadata": {},
   "outputs": [],
   "source": [
    "train_pred = collect_predictions(train_dataloader)\n",
    "valid_pred = collect_predictions(valid_dataloader)\n",
    "test_pred = collect_predictions(test_dataloader)"
   ]
  },
  {
   "cell_type": "code",
   "execution_count": 274,
   "id": "d42d9556-8e02-4998-b4a7-041e280f5e1d",
   "metadata": {},
   "outputs": [],
   "source": [
    "combined_pred = train_pred + valid_pred + test_pred\n",
    "combined_pred = torch.cat(combined_pred, dim=0)"
   ]
  },
  {
   "cell_type": "code",
   "execution_count": 280,
   "id": "92ec784f-d501-46ac-8312-27e774a4deab",
   "metadata": {},
   "outputs": [],
   "source": [
    "combined_df = pd.DataFrame(combined_pred.numpy())\n",
    "combined_df.to_csv(f'M0-h{horizon}', index=False)"
   ]
  },
  {
   "cell_type": "code",
   "execution_count": 282,
   "id": "9a505e03-e0c7-4c33-a104-ee0c521bbb01",
   "metadata": {},
   "outputs": [],
   "source": [
    "combined_dataset = np.vstack([train_dataset.data[:, -horizon:, 0:1], valid_dataset.data[:, -horizon:, 0:1], test_dataset.data[:, -horizon:, 0:1]])"
   ]
  }
 ],
 "metadata": {
  "kernelspec": {
   "display_name": "Python 3 (ipykernel)",
   "language": "python",
   "name": "python3"
  },
  "language_info": {
   "codemirror_mode": {
    "name": "ipython",
    "version": 3
   },
   "file_extension": ".py",
   "mimetype": "text/x-python",
   "name": "python",
   "nbconvert_exporter": "python",
   "pygments_lexer": "ipython3",
   "version": "3.10.12"
  }
 },
 "nbformat": 4,
 "nbformat_minor": 5
}
